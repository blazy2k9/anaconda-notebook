{
 "cells": [
  {
   "cell_type": "code",
   "execution_count": 14,
   "metadata": {},
   "outputs": [],
   "source": [
    "import pandas as pd\n",
    "import numpy as np\n",
    "from sklearn.metrics import mean_squared_error\n",
    "from fbprophet import Prophet\n",
    "from fbprophet.diagnostics import cross_validation\n",
    "\n",
    "\n",
    "%matplotlib inline\n",
    "import matplotlib.pyplot as plt\n",
    "plt.style.use('seaborn')\n",
    "\n",
    "import requests\n",
    "import time\n",
    "import datetime"
   ]
  },
  {
   "cell_type": "code",
   "execution_count": 4,
   "metadata": {},
   "outputs": [],
   "source": [
    "CURRENCIES = {\n",
    "    'Bitcoin' : 'BTC', \n",
    "    'Ethereum' : 'ETH', \n",
    "    'Litecoin' : 'LTC',\n",
    "    'AdEx' : 'ADX', \n",
    "    'Substratum' : 'SUB',\n",
    "    'Ripple' : 'XRP',\n",
    "    'NEO' : 'NEO',\n",
    "    'IOTA' : 'IOT',\n",
    "    'Monero' : 'XMR',\n",
    "             }\n",
    "TARGET_CURRENCY = 'USD'"
   ]
  },
  {
   "cell_type": "code",
   "execution_count": 5,
   "metadata": {},
   "outputs": [],
   "source": [
    "PRICE_HISTORY_BASE_URL = 'https://min-api.cryptocompare.com/data/histoday'\n",
    "REQUEST_PARAMS = '?fsym={source_currency}&tsym={target_currency}&aggregate=1&e=CCCAGG&allData=1'\n",
    "TEMPLATE_REQUEST_URL = PRICE_HISTORY_BASE_URL + REQUEST_PARAMS"
   ]
  },
  {
   "cell_type": "code",
   "execution_count": 6,
   "metadata": {},
   "outputs": [
    {
     "name": "stdout",
     "output_type": "stream",
     "text": [
      "Fetching historical market data for Bitcoin (BTC -> USD) ....\n",
      "Request URL : https://min-api.cryptocompare.com/data/histoday?fsym=BTC&tsym=USD&aggregate=1&e=CCCAGG&allData=1\n",
      "Successfully fetched historical market data for Bitcoin !\n",
      "Fetching historical market data for Ethereum (ETH -> USD) ....\n",
      "Request URL : https://min-api.cryptocompare.com/data/histoday?fsym=ETH&tsym=USD&aggregate=1&e=CCCAGG&allData=1\n",
      "Successfully fetched historical market data for Ethereum !\n",
      "Fetching historical market data for Litecoin (LTC -> USD) ....\n",
      "Request URL : https://min-api.cryptocompare.com/data/histoday?fsym=LTC&tsym=USD&aggregate=1&e=CCCAGG&allData=1\n",
      "Successfully fetched historical market data for Litecoin !\n",
      "Fetching historical market data for AdEx (ADX -> USD) ....\n",
      "Request URL : https://min-api.cryptocompare.com/data/histoday?fsym=ADX&tsym=USD&aggregate=1&e=CCCAGG&allData=1\n",
      "Successfully fetched historical market data for AdEx !\n",
      "Fetching historical market data for Substratum (SUB -> USD) ....\n",
      "Request URL : https://min-api.cryptocompare.com/data/histoday?fsym=SUB&tsym=USD&aggregate=1&e=CCCAGG&allData=1\n",
      "Successfully fetched historical market data for Substratum !\n",
      "Fetching historical market data for Ripple (XRP -> USD) ....\n",
      "Request URL : https://min-api.cryptocompare.com/data/histoday?fsym=XRP&tsym=USD&aggregate=1&e=CCCAGG&allData=1\n",
      "Successfully fetched historical market data for Ripple !\n",
      "Fetching historical market data for NEO (NEO -> USD) ....\n",
      "Request URL : https://min-api.cryptocompare.com/data/histoday?fsym=NEO&tsym=USD&aggregate=1&e=CCCAGG&allData=1\n",
      "Successfully fetched historical market data for NEO !\n",
      "Fetching historical market data for IOTA (IOT -> USD) ....\n",
      "Request URL : https://min-api.cryptocompare.com/data/histoday?fsym=IOT&tsym=USD&aggregate=1&e=CCCAGG&allData=1\n",
      "Successfully fetched historical market data for IOTA !\n",
      "Fetching historical market data for Monero (XMR -> USD) ....\n",
      "Request URL : https://min-api.cryptocompare.com/data/histoday?fsym=XMR&tsym=USD&aggregate=1&e=CCCAGG&allData=1\n",
      "Successfully fetched historical market data for Monero !\n"
     ]
    }
   ],
   "source": [
    "# Obtain historical data from the beginning of time for each currency\n",
    "currency_dataframe = {}\n",
    "for currency, symbol in CURRENCIES.items():\n",
    "    request_url = TEMPLATE_REQUEST_URL.format(source_currency = symbol, target_currency = TARGET_CURRENCY)\n",
    "    print('Fetching historical market data for {} ({} -> {}) ....'.format(currency, symbol, TARGET_CURRENCY))\n",
    "    print('Request URL :', request_url)\n",
    "    json_response = requests.get(url = request_url).json()\n",
    "    if json_response['Response'] == 'Error':\n",
    "        print('Failed to fetch historical market data for {} ({} -> {}) !, Error Message : {}'\n",
    "              .format(currency, symbol, TARGET_CURRENCY, json_response['Message']))\n",
    "    else:\n",
    "        # print(json_response)\n",
    "        df = pd.DataFrame(json_response['Data'])\n",
    "        # convert time (unix timestamp) to date\n",
    "        df['date'] = pd.to_datetime(df['time'], unit = 's')\n",
    "        # drop time column\n",
    "        df.drop('time', axis = 1, inplace = True)\n",
    "        # set date column as index\n",
    "        df.set_index('date', inplace = True)\n",
    "        \n",
    "        # volumefrom : trading volume of source currency traded (ex: BTC)\n",
    "        # volumeto : trading volume of target currency traded (ex: USD)\n",
    "        # average price of 1 unit of the source currency in the target currency = volumeto / volumefrom\n",
    "        df.rename(columns = {'open': 'market_open', 'close': 'market_close',\n",
    "                             'low': 'market_low', 'high': 'market_high',\n",
    "                             'volumefrom': 'trading_volume_source_currency', \n",
    "                             'volumeto': 'trading_volume_target_currency'}, inplace = True)\n",
    "        currency_dataframe[currency] = df\n",
    "        print('Successfully fetched historical market data for {} !'.format(currency, symbol))\n",
    "    # sleep for 1s to avoid hitting max rate limit per second\n",
    "    time.sleep(1)\n",
    "        "
   ]
  },
  {
   "cell_type": "code",
   "execution_count": 7,
   "metadata": {},
   "outputs": [],
   "source": [
    "df = currency_dataframe['Bitcoin']"
   ]
  },
  {
   "cell_type": "code",
   "execution_count": 8,
   "metadata": {},
   "outputs": [
    {
     "data": {
      "text/html": [
       "<div>\n",
       "<style scoped>\n",
       "    .dataframe tbody tr th:only-of-type {\n",
       "        vertical-align: middle;\n",
       "    }\n",
       "\n",
       "    .dataframe tbody tr th {\n",
       "        vertical-align: top;\n",
       "    }\n",
       "\n",
       "    .dataframe thead th {\n",
       "        text-align: right;\n",
       "    }\n",
       "</style>\n",
       "<table border=\"1\" class=\"dataframe\">\n",
       "  <thead>\n",
       "    <tr style=\"text-align: right;\">\n",
       "      <th></th>\n",
       "      <th>market_close</th>\n",
       "      <th>market_high</th>\n",
       "      <th>market_low</th>\n",
       "      <th>market_open</th>\n",
       "      <th>trading_volume_source_currency</th>\n",
       "      <th>trading_volume_target_currency</th>\n",
       "    </tr>\n",
       "    <tr>\n",
       "      <th>date</th>\n",
       "      <th></th>\n",
       "      <th></th>\n",
       "      <th></th>\n",
       "      <th></th>\n",
       "      <th></th>\n",
       "      <th></th>\n",
       "    </tr>\n",
       "  </thead>\n",
       "  <tbody>\n",
       "    <tr>\n",
       "      <th>2010-07-17</th>\n",
       "      <td>0.04951</td>\n",
       "      <td>0.04951</td>\n",
       "      <td>0.04951</td>\n",
       "      <td>0.04951</td>\n",
       "      <td>20.00</td>\n",
       "      <td>0.9902</td>\n",
       "    </tr>\n",
       "    <tr>\n",
       "      <th>2010-07-18</th>\n",
       "      <td>0.08584</td>\n",
       "      <td>0.08585</td>\n",
       "      <td>0.05941</td>\n",
       "      <td>0.04951</td>\n",
       "      <td>75.01</td>\n",
       "      <td>5.0900</td>\n",
       "    </tr>\n",
       "    <tr>\n",
       "      <th>2010-07-19</th>\n",
       "      <td>0.08080</td>\n",
       "      <td>0.09307</td>\n",
       "      <td>0.07723</td>\n",
       "      <td>0.08584</td>\n",
       "      <td>574.00</td>\n",
       "      <td>49.6600</td>\n",
       "    </tr>\n",
       "    <tr>\n",
       "      <th>2010-07-20</th>\n",
       "      <td>0.07474</td>\n",
       "      <td>0.08181</td>\n",
       "      <td>0.07426</td>\n",
       "      <td>0.08080</td>\n",
       "      <td>262.00</td>\n",
       "      <td>20.5900</td>\n",
       "    </tr>\n",
       "    <tr>\n",
       "      <th>2010-07-21</th>\n",
       "      <td>0.07921</td>\n",
       "      <td>0.07921</td>\n",
       "      <td>0.06634</td>\n",
       "      <td>0.07474</td>\n",
       "      <td>575.00</td>\n",
       "      <td>42.2600</td>\n",
       "    </tr>\n",
       "  </tbody>\n",
       "</table>\n",
       "</div>"
      ],
      "text/plain": [
       "            market_close  market_high  market_low  market_open  \\\n",
       "date                                                             \n",
       "2010-07-17       0.04951      0.04951     0.04951      0.04951   \n",
       "2010-07-18       0.08584      0.08585     0.05941      0.04951   \n",
       "2010-07-19       0.08080      0.09307     0.07723      0.08584   \n",
       "2010-07-20       0.07474      0.08181     0.07426      0.08080   \n",
       "2010-07-21       0.07921      0.07921     0.06634      0.07474   \n",
       "\n",
       "            trading_volume_source_currency  trading_volume_target_currency  \n",
       "date                                                                        \n",
       "2010-07-17                           20.00                          0.9902  \n",
       "2010-07-18                           75.01                          5.0900  \n",
       "2010-07-19                          574.00                         49.6600  \n",
       "2010-07-20                          262.00                         20.5900  \n",
       "2010-07-21                          575.00                         42.2600  "
      ]
     },
     "execution_count": 8,
     "metadata": {},
     "output_type": "execute_result"
    }
   ],
   "source": [
    "df.head()"
   ]
  },
  {
   "cell_type": "code",
   "execution_count": 9,
   "metadata": {},
   "outputs": [
    {
     "data": {
      "text/html": [
       "<div>\n",
       "<style scoped>\n",
       "    .dataframe tbody tr th:only-of-type {\n",
       "        vertical-align: middle;\n",
       "    }\n",
       "\n",
       "    .dataframe tbody tr th {\n",
       "        vertical-align: top;\n",
       "    }\n",
       "\n",
       "    .dataframe thead th {\n",
       "        text-align: right;\n",
       "    }\n",
       "</style>\n",
       "<table border=\"1\" class=\"dataframe\">\n",
       "  <thead>\n",
       "    <tr style=\"text-align: right;\">\n",
       "      <th></th>\n",
       "      <th>market_close</th>\n",
       "      <th>market_high</th>\n",
       "      <th>market_low</th>\n",
       "      <th>market_open</th>\n",
       "      <th>trading_volume_source_currency</th>\n",
       "      <th>trading_volume_target_currency</th>\n",
       "    </tr>\n",
       "  </thead>\n",
       "  <tbody>\n",
       "    <tr>\n",
       "      <th>count</th>\n",
       "      <td>2829.000000</td>\n",
       "      <td>2829.000000</td>\n",
       "      <td>2829.000000</td>\n",
       "      <td>2829.000000</td>\n",
       "      <td>2829.000000</td>\n",
       "      <td>2.829000e+03</td>\n",
       "    </tr>\n",
       "    <tr>\n",
       "      <th>mean</th>\n",
       "      <td>1086.280510</td>\n",
       "      <td>1127.778814</td>\n",
       "      <td>1032.573439</td>\n",
       "      <td>1083.453670</td>\n",
       "      <td>55810.823722</td>\n",
       "      <td>1.232027e+08</td>\n",
       "    </tr>\n",
       "    <tr>\n",
       "      <th>std</th>\n",
       "      <td>2636.613107</td>\n",
       "      <td>2755.801519</td>\n",
       "      <td>2478.061253</td>\n",
       "      <td>2633.497819</td>\n",
       "      <td>56332.164944</td>\n",
       "      <td>4.144453e+08</td>\n",
       "    </tr>\n",
       "    <tr>\n",
       "      <th>min</th>\n",
       "      <td>0.049510</td>\n",
       "      <td>0.049510</td>\n",
       "      <td>0.010000</td>\n",
       "      <td>0.049510</td>\n",
       "      <td>0.000000</td>\n",
       "      <td>0.000000e+00</td>\n",
       "    </tr>\n",
       "    <tr>\n",
       "      <th>25%</th>\n",
       "      <td>10.890000</td>\n",
       "      <td>11.130000</td>\n",
       "      <td>10.550000</td>\n",
       "      <td>10.870000</td>\n",
       "      <td>18057.570000</td>\n",
       "      <td>3.874762e+05</td>\n",
       "    </tr>\n",
       "    <tr>\n",
       "      <th>50%</th>\n",
       "      <td>255.920000</td>\n",
       "      <td>264.710000</td>\n",
       "      <td>248.280000</td>\n",
       "      <td>255.590000</td>\n",
       "      <td>40360.360000</td>\n",
       "      <td>6.143389e+06</td>\n",
       "    </tr>\n",
       "    <tr>\n",
       "      <th>75%</th>\n",
       "      <td>626.580000</td>\n",
       "      <td>638.590000</td>\n",
       "      <td>613.010000</td>\n",
       "      <td>625.570000</td>\n",
       "      <td>74152.690000</td>\n",
       "      <td>2.661345e+07</td>\n",
       "    </tr>\n",
       "    <tr>\n",
       "      <th>max</th>\n",
       "      <td>19345.490000</td>\n",
       "      <td>19870.620000</td>\n",
       "      <td>18750.910000</td>\n",
       "      <td>19346.600000</td>\n",
       "      <td>572349.320000</td>\n",
       "      <td>6.245732e+09</td>\n",
       "    </tr>\n",
       "  </tbody>\n",
       "</table>\n",
       "</div>"
      ],
      "text/plain": [
       "       market_close   market_high    market_low   market_open  \\\n",
       "count   2829.000000   2829.000000   2829.000000   2829.000000   \n",
       "mean    1086.280510   1127.778814   1032.573439   1083.453670   \n",
       "std     2636.613107   2755.801519   2478.061253   2633.497819   \n",
       "min        0.049510      0.049510      0.010000      0.049510   \n",
       "25%       10.890000     11.130000     10.550000     10.870000   \n",
       "50%      255.920000    264.710000    248.280000    255.590000   \n",
       "75%      626.580000    638.590000    613.010000    625.570000   \n",
       "max    19345.490000  19870.620000  18750.910000  19346.600000   \n",
       "\n",
       "       trading_volume_source_currency  trading_volume_target_currency  \n",
       "count                     2829.000000                    2.829000e+03  \n",
       "mean                     55810.823722                    1.232027e+08  \n",
       "std                      56332.164944                    4.144453e+08  \n",
       "min                          0.000000                    0.000000e+00  \n",
       "25%                      18057.570000                    3.874762e+05  \n",
       "50%                      40360.360000                    6.143389e+06  \n",
       "75%                      74152.690000                    2.661345e+07  \n",
       "max                     572349.320000                    6.245732e+09  "
      ]
     },
     "execution_count": 9,
     "metadata": {},
     "output_type": "execute_result"
    }
   ],
   "source": [
    "df.describe()"
   ]
  },
  {
   "cell_type": "code",
   "execution_count": 10,
   "metadata": {},
   "outputs": [
    {
     "data": {
      "text/plain": [
       "(2829, 6)"
      ]
     },
     "execution_count": 10,
     "metadata": {},
     "output_type": "execute_result"
    }
   ],
   "source": [
    "df.shape"
   ]
  },
  {
   "cell_type": "code",
   "execution_count": 12,
   "metadata": {},
   "outputs": [
    {
     "data": {
      "text/plain": [
       "<matplotlib.axes._subplots.AxesSubplot at 0x7f21e39c9470>"
      ]
     },
     "execution_count": 12,
     "metadata": {},
     "output_type": "execute_result"
    },
    {
     "data": {
      "image/png": "[encoded data removed]",
      "text/plain": [
       "<matplotlib.figure.Figure at 0x7f21e859d320>"
      ]
     },
     "metadata": {},
     "output_type": "display_data"
    }
   ],
   "source": [
    "df[['market_close']].plot()"
   ]
  },
  {
   "cell_type": "code",
   "execution_count": 16,
   "metadata": {},
   "outputs": [
    {
     "data": {
      "text/plain": [
       "'2018-04-14'"
      ]
     },
     "execution_count": 16,
     "metadata": {},
     "output_type": "execute_result"
    }
   ],
   "source": [
    "current_date = datetime.datetime.now().strftime(\"%Y-%m-%d\")\n",
    "current_date"
   ]
  },
  {
   "cell_type": "code",
   "execution_count": null,
   "metadata": {},
   "outputs": [],
   "source": [
    "def get_currency_timeseries(currency_dataframe, currency, target_column):\n",
    "    timeseriesDF = currency_dataframe[currency].copy()\n",
    "    timeseriesDF.rename(columns = {'date': 'ds', target_column: 'y'}, inplace = True)\n",
    "    timeseriesDF['y'] = np.log(timeseriesDF['y'])"
   ]
  },
  {
   "cell_type": "code",
   "execution_count": null,
   "metadata": {},
   "outputs": [],
   "source": [
    "# Seasonality configurations\n",
    "seasonalities = {\n",
    "    'daily': {\n",
    "        'period': 1,\n",
    "        'fourier_order': 16,\n",
    "        'prior_scale': 24\n",
    "    },\n",
    "    'weekly': {\n",
    "        'period': 7,\n",
    "        'fourier_order': 13,\n",
    "        'prior_scale': 24\n",
    "    },\n",
    "    'monthly': {\n",
    "        'period': 30.5,\n",
    "        'fourier_order': 13,\n",
    "        'prior_scale': 24\n",
    "    },\n",
    "    'quaterly': {\n",
    "        'period': 91.3125,\n",
    "        'fourier_order': 3,\n",
    "        'prior_scale': 24\n",
    "    },\n",
    "    'yearly': {\n",
    "        'period': 7,\n",
    "        'fourier_order': 23,\n",
    "        'prior_scale': 24\n",
    "    }\n",
    "}"
   ]
  },
  {
   "cell_type": "code",
   "execution_count": null,
   "metadata": {},
   "outputs": [],
   "source": [
    "def add_seasonality(prophet, seasonality_type = 'weekly'):\n",
    "    print('Activating {} seasonality'.format(seasonality_type))\n",
    "    prophet.add_seasonality(seasonality_type, **seasonalities[seasonality_type])"
   ]
  },
  {
   "cell_type": "code",
   "execution_count": null,
   "metadata": {},
   "outputs": [],
   "source": [
    "# Set logistic caps\n",
    "LOGISTIC_FLOOR = np.log(10e-100) # minimum possible price\n",
    "LOGISTIC_CAP = np.log(10e9) # maximum possible price"
   ]
  },
  {
   "cell_type": "code",
   "execution_count": null,
   "metadata": {},
   "outputs": [],
   "source": [
    "# Recurring events (holidays and any event that affects prices seasonally)\n",
    "recurring_events = pd.concat(\n",
    "    (\n",
    "        pd.DataFrame({\n",
    "            'holiday': 'Christmas', \n",
    "            'ds': pd.to_datetime(['2017-12-25']),\n",
    "            'prior_scale': 16\n",
    "        }),\n",
    "        pd.DataFrame({\n",
    "            'holiday': 'New Year', \n",
    "            'ds': pd.to_datetime(['2015-01-01', '2016-01-01', '2017-01-01'])\n",
    "        })\n",
    ")\n",
    ")"
   ]
  },
  {
   "cell_type": "code",
   "execution_count": null,
   "metadata": {},
   "outputs": [],
   "source": [
    "def fit_model(df, n_changepoints = 10, changepoint_prior_scale = 0.03):\n",
    "    prophet = Prophet(growth = 'logistic', holidays = recurring_events, \n",
    "                      holidays_prior_scale = 24, changepoint_prior_scale = changepoint_prior_scale, \n",
    "                      n_changepoints = n_changepoints, daily_seasonality = False, \n",
    "                      weekly_seasonality = False, yearly_seasonality = False)\n",
    "    nb_rows = df.shape[0]\n",
    "    \n",
    "    for seasonality in seasonalities.keys(): \n",
    "        if seasonality == 'daily':\n",
    "            continue\n",
    "        if nb_rows // seasonalities[seasonality]['period'] > 1:\n",
    "            add_seasonality(prophet, seasonality)\n",
    "    \n",
    "    df['floor'] = LOGISTIC_FLOOR\n",
    "    df['cap'] = LOGISTIC_CAP\n",
    "    \n",
    "    prophet.fit(df)\n",
    "\n",
    "    return prophet"
   ]
  },
  {
   "cell_type": "code",
   "execution_count": null,
   "metadata": {},
   "outputs": [],
   "source": [
    "def predict(prophet):\n",
    "    # Extend into the future to predict\n",
    "    future = prophet.make_future_dataframe(periods=30)\n",
    "    \n",
    "    future['floor'] = LOGISTIC_FLOOR\n",
    "    future['cap'] = LOGISTIC_CAP\n",
    "    \n",
    "    forecast = prophet.predict(future)\n",
    "    \n",
    "    return forecast"
   ]
  },
  {
   "cell_type": "code",
   "execution_count": null,
   "metadata": {},
   "outputs": [],
   "source": [
    "from math import sqrt\n",
    "\n",
    "def mse(df):\n",
    "    return mean_squared_error(df['y'], df['yhat'])\n",
    "\n",
    "# Root mean square error\n",
    "def rmse(df):\n",
    "    return sqrt(mean_squared_error(df['y'], df['yhat']))\n",
    "\n",
    "# Mean absolute percentage error\n",
    "def mape(df): \n",
    "    return np.mean(np.abs((df['y'] - df['yhat']) / df['y'])) * 100\n",
    "\n",
    "# Mean and STD\n",
    "def get_mean_and_std(df, col = 'yhat'):\n",
    "    return df[col].mean(), np.std(df[col])"
   ]
  },
  {
   "cell_type": "code",
   "execution_count": null,
   "metadata": {},
   "outputs": [],
   "source": [
    "def evaluate_currency(currency_dataframe, currency = 'Bitcoin', target_column = 'market_close'):\n",
    "    # Get timeseries dataframe with required column\n",
    "    timeseriesDF = get_currency_timeseries(currency_dataframe, currency, target_column)\n",
    "    \n",
    "    # Fit model\n",
    "    \n",
    "    \n",
    "    # Forecast future\n",
    "    \n",
    "    \n",
    "    # Compute accuracy metrics\n",
    "    \n",
    "    "
   ]
  },
  {
   "cell_type": "code",
   "execution_count": null,
   "metadata": {},
   "outputs": [],
   "source": [
    "currencyDF = currencyDF[currencyDF['ds'] < current_date]\n",
    "currencyDF['y'] = np.log(currencyDF['y'])"
   ]
  },
  {
   "cell_type": "code",
   "execution_count": null,
   "metadata": {},
   "outputs": [],
   "source": [
    "n_changepoints = min(240, int(currencyDF.shape[0] / 3))\n",
    "n_changepoints"
   ]
  },
  {
   "cell_type": "code",
   "execution_count": null,
   "metadata": {},
   "outputs": [],
   "source": [
    "prophet = fit_model(currencyDF, n_changepoints = n_changepoints)"
   ]
  },
  {
   "cell_type": "code",
   "execution_count": null,
   "metadata": {},
   "outputs": [],
   "source": [
    "forecast = predict(prophet)"
   ]
  },
  {
   "cell_type": "code",
   "execution_count": null,
   "metadata": {},
   "outputs": [],
   "source": [
    "prophet.plot_components(forecast)"
   ]
  },
  {
   "cell_type": "code",
   "execution_count": null,
   "metadata": {},
   "outputs": [],
   "source": [
    "prophet.plot(forecast)"
   ]
  },
  {
   "cell_type": "code",
   "execution_count": null,
   "metadata": {},
   "outputs": [],
   "source": [
    "# Cross validation Logistic trend with weekly, monthly, quaterly and yearly seasonalities and holidays\n",
    "cvDF = cross_validation(prophet, horizon = '120 days')"
   ]
  },
  {
   "cell_type": "code",
   "execution_count": null,
   "metadata": {},
   "outputs": [],
   "source": [
    "cvDF[cvDF['ds'] == '2018-02-28']"
   ]
  },
  {
   "cell_type": "code",
   "execution_count": null,
   "metadata": {},
   "outputs": [],
   "source": [
    "print('Logistic trend with weekly, monthly, quaterly and yearly seasonalities and holidays MAPE : {}, RMSE : {}, Mean : {}, std : {}'.format(mape(cvDF), rmse(cvDF), *get_mean_and_std(cvDF)))"
   ]
  },
  {
   "cell_type": "code",
   "execution_count": null,
   "metadata": {},
   "outputs": [],
   "source": [
    "forecast[forecast['ds'] > '2018-02-26'][['ds', 'yhat', 'yhat_lower', 'yhat_upper']]"
   ]
  },
  {
   "cell_type": "code",
   "execution_count": null,
   "metadata": {},
   "outputs": [],
   "source": [
    "# Pull forecast for current day\n",
    "target_forcast = forecast[forecast['ds'] == current_date]\n",
    "forcasted_value = long(np.exp(target_forcast['yhat']))\n",
    "error_above = long(np.exp(target_forcast['yhat_upper']))\n",
    "error_below = long(np.exp(target_forcast['yhat_lower']))\n",
    "warning_above = long(forcasted_value + (error_above - forcasted_value) * 0.8)\n",
    "warning_below = long(forcasted_value - (forcasted_value - error_below) * 0.8)"
   ]
  },
  {
   "cell_type": "code",
   "execution_count": null,
   "metadata": {},
   "outputs": [],
   "source": [
    "# Build dictionary (json) for forecasted value\n",
    "currency_forecast = {\n",
    "    'currency_name': {\n",
    "        'FORECAST': forcasted_value,\n",
    "        'THRESHOLD_ERROR_ABOVE': error_above,\n",
    "        'THRESHOLD_ERROR_BELOW': error_below,\n",
    "        'THRESHOLD_WARNING_ABOVE': warning_above,\n",
    "        'THRESHOLD_WARNING_BELOW': warning_below\n",
    "    }\n",
    "}"
   ]
  },
  {
   "cell_type": "code",
   "execution_count": null,
   "metadata": {},
   "outputs": [],
   "source": [
    "json.dumps(currency_forecast)"
   ]
  },
  {
   "cell_type": "code",
   "execution_count": null,
   "metadata": {},
   "outputs": [],
   "source": [
    "# Actual value\n",
    "np.exp(currencyDF[currencyDF['ds'] == current_date]['y'])"
   ]
  },
  {
   "cell_type": "code",
   "execution_count": null,
   "metadata": {},
   "outputs": [],
   "source": [
    "prophet.plot(forecast[forecast['ds'] > '2018-01-31'])"
   ]
  }
 ],
 "metadata": {
  "kernelspec": {
   "display_name": "Python 3",
   "language": "python",
   "name": "python3"
  },
  "language_info": {
   "codemirror_mode": {
    "name": "ipython",
    "version": 3
   },
   "file_extension": ".py",
   "mimetype": "text/x-python",
   "name": "python",
   "nbconvert_exporter": "python",
   "pygments_lexer": "ipython3",
   "version": "3.6.4"
  }
 },
 "nbformat": 4,
 "nbformat_minor": 2
}
